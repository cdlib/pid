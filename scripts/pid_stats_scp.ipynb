{
 "cells": [
  {
   "cell_type": "markdown",
   "metadata": {},
   "source": [
    "# PID SCP Stats Report\n",
    "\n",
    "This script runs stat totals for SCP and UCSD up to a specific date. This is requested yearly by the UCSD SCP Group."
   ]
  },
  {
   "cell_type": "markdown",
   "metadata": {},
   "source": [
    "### Create export from database"
   ]
  },
  {
   "cell_type": "markdown",
   "metadata": {},
   "source": [
    "#### Imports"
   ]
  },
  {
   "cell_type": "code",
   "execution_count": null,
   "metadata": {},
   "outputs": [],
   "source": [
    "import datetime\n",
    "import collections\n",
    "import getpass\n",
    "import json\n",
    "import os\n",
    "\n",
    "\n",
    "import yaml\n",
    "import pandas\n",
    "import pymysql"
   ]
  },
  {
   "cell_type": "markdown",
   "metadata": {},
   "source": [
    "#### Define SQL Query"
   ]
  },
  {
   "cell_type": "code",
   "execution_count": null,
   "metadata": {},
   "outputs": [],
   "source": [
    "select_stmt_base = \"select id, deactivated, group_id, created_at, notes from pids where created_at < '{}'\""
   ]
  },
  {
   "cell_type": "markdown",
   "metadata": {},
   "source": [
    "#### Get Connection & Credentials\n",
    "Enter database connection information. Everything is treated like a password to avoid accidental leaking into jupyter notebook."
   ]
  },
  {
   "cell_type": "code",
   "execution_count": null,
   "metadata": {},
   "outputs": [],
   "source": [
    "if os.path.exists(\"../conf/db.yml\"):\n",
    "    print(\"Using conf/db.yml for configuration\")\n",
    "    db = yaml.safe_load(open(\"../conf/db.yml\", \"r\"))\n",
    "    host = db[\"db_host\"]\n",
    "    user = db[\"db_username\"]\n",
    "    password = db[\"db_password\"]s\n",
    "else:\n",
    "    print(\"Could not find db conf, asking user for credentials\")\n",
    "    host = input(\"Host: \")\n",
    "    user = input(\"Username: \")\n",
    "    password = getpass.getpass(\"Password: \")"
   ]
  },
  {
   "cell_type": "code",
   "execution_count": null,
   "metadata": {},
   "outputs": [],
   "source": [
    "# create connection\n",
    "conn = pymysql.connect(\n",
    "    host=host,\n",
    "    port=int(3306),\n",
    "    user=user,\n",
    "    passwd=password,\n",
    "    db=\"pid\")"
   ]
  },
  {
   "cell_type": "markdown",
   "metadata": {},
   "source": [
    "#### Running Querying \n",
    "This is going to take awhile."
   ]
  },
  {
   "cell_type": "code",
   "execution_count": null,
   "metadata": {},
   "outputs": [],
   "source": [
    "date = input(\"Enter a date (YYYY-MM-DD): \")"
   ]
  },
  {
   "cell_type": "code",
   "execution_count": null,
   "metadata": {},
   "outputs": [],
   "source": [
    "# run query to get dataframe\n",
    "df = pandas.read_sql_query(select_stmt_base.format(date),\n",
    "    conn)"
   ]
  },
  {
   "cell_type": "code",
   "execution_count": null,
   "metadata": {},
   "outputs": [],
   "source": [
    "filter_scp = df[\"group_id\"]==\"SCP\"\n",
    "filter_ucsd = df[\"group_id\"]==\"UCSD\"\n",
    "filter_scp_notes = df[\"notes\"].str.lower().str.contains(\"scp\")\n",
    "filter_ucsd_notes = df[\"notes\"].str.lower().str.contains(\"ucsd\")\n",
    "filter_de = df[\"deactivated\"]==0\n",
    "scp_all = df[(filter_scp)]['id'].count()\n",
    "scp_de = df[(filter_scp) & (filter_de)]['id'].count()\n",
    "ucsd_all = df[(filter_ucsd)]['id'].count()\n",
    "ucsd_de = df[(filter_ucsd) & (filter_de)]['id'].count()\n",
    "\n",
    "shared_de = df[((filter_ucsd & filter_scp_notes) | (filter_scp & filter_ucsd_notes)) & filter_de ]['id'].count()\n",
    "shared_all = df[((filter_ucsd & filter_scp_notes) | (filter_scp & filter_ucsd_notes)) ]['id'].count()\n",
    "print(\"SCP Total: {}\".format(scp_all))\n",
    "print(\"SCP Active: {}\".format(scp_de))\n",
    "print(\"UCSD Total: {}\".format(ucsd_all))\n",
    "print(\"UCSD Active: {}\".format(ucsd_de))\n",
    "print(\"Shared Total: {}\".format(shared_all))\n",
    "print(\"Shared Active: {}\".format(shared_de))"
   ]
  },
  {
   "cell_type": "code",
   "execution_count": null,
   "metadata": {},
   "outputs": [],
   "source": []
  }
 ],
 "metadata": {
  "kernelspec": {
   "display_name": "Python 3",
   "language": "python",
   "name": "python3"
  },
  "language_info": {
   "codemirror_mode": {
    "name": "ipython",
    "version": 3
   },
   "file_extension": ".py",
   "mimetype": "text/x-python",
   "name": "python",
   "nbconvert_exporter": "python",
   "pygments_lexer": "ipython3",
   "version": "3.7.4"
  }
 },
 "nbformat": 4,
 "nbformat_minor": 4
}
